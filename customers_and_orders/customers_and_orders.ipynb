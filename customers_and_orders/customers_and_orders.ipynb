{
  "cells": [
    {
      "cell_type": "markdown",
      "metadata": {
        "id": "view-in-github",
        "colab_type": "text"
      },
      "source": [
        "<a href=\"https://colab.research.google.com/github/JoseMorelli/anyoneai/blob/main/customers_and_orders/customers_and_orders.ipynb\" target=\"_parent\"><img src=\"https://colab.research.google.com/assets/colab-badge.svg\" alt=\"Open In Colab\"/></a>"
      ]
    },
    {
      "cell_type": "markdown",
      "metadata": {
        "id": "piiX_CRNFYUi"
      },
      "source": [
        "# Technical Challenge ! Custiomers and Orders - The lifeblood of any business!\n",
        "\n",
        "This notebook depends on two data files: customers.scv and orders.csv. These files are hosted in the cloud (or Github), so for simplicity, we are providing you with the code to download and save the two files in a folder called 'sample_data' which lives within this notebook session (not on your local computer nor Google Drive).\n",
        "\n",
        "![sample_data folder in notebook session](https://raw.githubusercontent.com/anyoneai/notebooks/main/customers_and_orders/images/sample_data_folder.png)\n",
        "\n",
        "Please execute the first code snippet before moving to the rest of the exercise as this code will import the data from the files for you to be able to execute the rest of the exercise.\n",
        "\n",
        "Remember as we said in the previous lecture, you have to save this notebook into your Google Drive by going to menu File/Save a Copy In Drive, or clicking in the button \"Copy to Drive\". This way, you will not lose any work you've done and the file will persist with your latest changes in your Google Drive. Also we recommend you to rename your .ipynb in your Google Drive, so you can easily find it in the future."
      ]
    },
    {
      "cell_type": "code",
      "execution_count": 1,
      "metadata": {
        "colab": {
          "base_uri": "https://localhost:8080/"
        },
        "id": "MWpVO242FQHC",
        "outputId": "ae627a56-05fd-4e42-c0ee-2c9a799690a4"
      },
      "outputs": [
        {
          "output_type": "stream",
          "name": "stdout",
          "text": [
            "Customers and orders CSV files have been added './sample_data'\n"
          ]
        }
      ],
      "source": [
        "import requests\n",
        "\n",
        "def import_data_files():\n",
        "  r = requests.get('https://raw.githubusercontent.com/anyoneai/notebooks/main/customers_and_orders/data/customers.csv')\n",
        "  with open('./sample_data/customers.csv', 'wb') as f:\n",
        "    f.write(r.content)\n",
        "\n",
        "  r = requests.get('https://raw.githubusercontent.com/anyoneai/notebooks/main/customers_and_orders/data/orders.csv')\n",
        "  with open('./sample_data/orders.csv', 'wb') as f:\n",
        "    f.write(r.content)\n",
        "  \n",
        "import_data_files()\n",
        "print(\"Customers and orders CSV files have been added './sample_data'\")"
      ]
    },
    {
      "cell_type": "markdown",
      "metadata": {
        "id": "JQAduY-RWKyB"
      },
      "source": [
        "# Exercise 1: Processing Customers data (difficulty medium)\n",
        "\n",
        "The sample customer data in 'customers.csv' file has just 5 columns: CustomerId, First Name, Last Name, City and State\n",
        "\n",
        "![Data sample](https://raw.githubusercontent.com/anyoneai/notebooks/main/customers_and_orders/images/customers.png)\n",
        "\n",
        "We strongly recommend that you complete from the [Prep Course: Intro to Python](https://colab.research.google.com/github/anyoneai/notebooks/blob/main/python3_crash_course.ipynb) the following section:\n",
        "- Section 7: File I/O (to understand how to read CSV file) \n",
        "- Section 6: For Loop (to navigate the contents of the CSV file)\n",
        "- Section 5: Tuples, Lists, and Dictionaries (to manipulate the data of the CSV file)\n",
        "\n",
        "With this, we hope you can complete this exercise successfully. Although if you want to solve this with libraries or any other way, you are welcome to do it your way.\n",
        "\n",
        "*Hint:* We advise you to take a look at the data before you start.\n",
        "**if you want to manually take a look at the data before you start, please see the content of the data [here](https://github.com/anyoneai/notebooks/blob/main/customers_and_orders/data/customers.csv).\n",
        "\n",
        "*Hint*: There are many ways to do this exercise you can do your own, although here's some help. You can solve this exercise reading and parsing CSV files, structuring data into dictionaries, and using for loops to navigate the contents\n",
        "\n",
        "*Hint*: Also, keep in mind that data might not be clean and you might have to figure out how to deal with that data from the code, without having to modify the data source.\n",
        "\n",
        "Below are the 5 questions you'll have to answer to pass the evaluation:"
      ]
    },
    {
      "cell_type": "markdown",
      "metadata": {
        "id": "kJq7S8sBfbOW"
      },
      "source": [
        "**Question 1:** How many customers are in the file?\n",
        "(as help, we have added some comments and starter code to help you structure the solution)"
      ]
    },
    {
      "cell_type": "code",
      "execution_count": null,
      "metadata": {
        "colab": {
          "base_uri": "https://localhost:8080/"
        },
        "id": "oMnUFBFb2RUb",
        "outputId": "30ba2beb-5d5e-44dc-eb6c-e8b8b20f660c"
      },
      "outputs": [
        {
          "output_type": "stream",
          "name": "stdout",
          "text": [
            "Costumer:  472\n",
            "All done!\n"
          ]
        }
      ],
      "source": [
        "from os.path import exists\n",
        "import csv\n",
        "\n",
        "# check if file can be found and open the file\n",
        "datafile = \"./sample_data/customers.csv\"\n",
        "if not exists(datafile):\n",
        "  raise SystemExit(\"You should run the first code cell and download the dataset files!\")\n",
        "\n",
        "# customers file is in the sample_data folder and can be opened.\n",
        "# Using csv reader is one way of dealing with the file \n",
        "# but it's up to you how you want to proceed\n",
        "count=0\n",
        "costumers= {}\n",
        "list1=[]\n",
        "with open(datafile, 'r') as fl:\n",
        "  csvreader = csv.reader(fl, delimiter=',')\n",
        "  costumers={rows[0]:{\"fname\":rows[1],\"lname\":rows[2],\"city\":rows[3],\"state\":rows[4]} for rows in csvreader}\n",
        "\n",
        "#print(costumers)\n",
        "  # loop through the rows and count etc. THE REST IS UP TO YOU!\n",
        "with open(datafile, 'r') as fl:\n",
        "  for line in fl:\n",
        "    spl= line.split(',')\n",
        "    #print (spl[0])\n",
        "    if spl[0] not in list1:\n",
        "      count=count+1\n",
        "      list1.append(spl[0])\n",
        "print(\"Costumer: \", count)"
      ]
    },
    {
      "cell_type": "markdown",
      "metadata": {
        "id": "uffBnNgz_570"
      },
      "source": [
        "**Question 2:** In how many different states do the customers live in?"
      ]
    },
    {
      "cell_type": "code",
      "execution_count": null,
      "metadata": {
        "id": "Bi_yid0sMe3-",
        "colab": {
          "base_uri": "https://localhost:8080/"
        },
        "outputId": "d578890e-1d17-400f-f814-4ee509cf5771"
      },
      "outputs": [
        {
          "output_type": "stream",
          "name": "stdout",
          "text": [
            "Costumer:  17\n",
            "All done!\n"
          ]
        }
      ],
      "source": [
        "from os.path import exists\n",
        "import csv\n",
        "\n",
        "# check if file can be found and open the file\n",
        "datafile = \"./sample_data/customers.csv\"\n",
        "if not exists(datafile):\n",
        "  raise SystemExit(\"You should run the first code cell and download the dataset files!\")\n",
        "\n",
        "# customers file is in the sample_data folder and can be opened.\n",
        "# Using csv reader is one way of dealing with the file \n",
        "# but it's up to you how you want to proceed\n",
        "count=0\n",
        "costumers= {}\n",
        "list1=[]\n",
        "with open(datafile, 'r') as fl:\n",
        "  csvreader = csv.reader(fl, delimiter=',')\n",
        "  costumers={rows[0]:{\"fname\":rows[1],\"lname\":rows[2],\"city\":rows[3],\"state\":rows[4]} for rows in csvreader}\n",
        "\n",
        "#print(costumers)\n",
        "  # loop through the rows and count etc. THE REST IS UP TO YOU!\n",
        "with open(datafile, 'r') as fl:\n",
        "  for line in fl:\n",
        "    spl= line.split(',')\n",
        "    #print (spl[0])\n",
        "    if spl[4] not in list1:\n",
        "      count=count+1\n",
        "      list1.append(spl[4])\n",
        "print(\"Different states: \", count)"
      ]
    },
    {
      "cell_type": "markdown",
      "metadata": {
        "id": "DC59SZYiMfNY"
      },
      "source": [
        "**Question 3** What is the state with most customers?"
      ]
    },
    {
      "cell_type": "code",
      "execution_count": null,
      "metadata": {
        "id": "tfGU3w-OMhA9",
        "colab": {
          "base_uri": "https://localhost:8080/"
        },
        "outputId": "080ec2c5-9fb5-4b7f-9358-cf4ac1b50933"
      },
      "outputs": [
        {
          "output_type": "stream",
          "name": "stdout",
          "text": [
            "{'CA': 569, 'AZ': 6, 'NV': 8, 'FL': 3, 'WA': 1, 'NH': 1, 'ID': 1, 'CO': 3, 'TX': 2, 'NM': 3, 'OR': 1, 'UT': 2, 'MA': 1, 'IN': 1}\n",
            "State: CA, costumers: 569\n"
          ]
        }
      ],
      "source": [
        "from os.path import exists\n",
        "import csv\n",
        "\n",
        "# check if file can be found and open the file\n",
        "datafile = \"./sample_data/customers.csv\"\n",
        "if not exists(datafile):\n",
        "  raise SystemExit(\"You should run the first code cell and download the dataset files!\")\n",
        "\n",
        "count=0\n",
        "costumers= {}\n",
        "states={}\n",
        "countLine=0\n",
        "with open(datafile, 'r') as fl:\n",
        "  for line in fl:\n",
        "    if countLine >0:\n",
        "      spl= line.split(',')\n",
        "      #print (spl[0])\n",
        "      aux=spl[4]\n",
        "      aux2=aux[:2]\n",
        "      aux2=aux2.upper()\n",
        "      if aux2 not in states:\n",
        "        states.update({aux2:1})\n",
        "      else:\n",
        "        count=states[aux2]\n",
        "        count=count+1\n",
        "        states[aux2]=count\n",
        "    countLine=countLine+1\n",
        "valueMax=0\n",
        "stateMAx=0\n",
        "#print(states)\n",
        "for key,item in states.items():\n",
        "  if valueMax < item:\n",
        "    valueMax=item\n",
        "    stateMAx=key\n",
        "print(f'State: {stateMAx}, costumers: {valueMax}')"
      ]
    },
    {
      "cell_type": "markdown",
      "metadata": {
        "id": "7mcM6cUAMhLB"
      },
      "source": [
        "**Question 4** What is the state with the least customers?"
      ]
    },
    {
      "cell_type": "code",
      "execution_count": null,
      "metadata": {
        "id": "8T0Ka2RqMi3P",
        "colab": {
          "base_uri": "https://localhost:8080/",
          "height": 259
        },
        "outputId": "b625fa44-1354-4441-ff78-07c225e245e2"
      },
      "outputs": [
        {
          "output_type": "stream",
          "name": "stdout",
          "text": [
            "{'CA': 569, 'AZ': 6, 'NV': 8, 'FL': 3, 'WA': 1, 'NH': 1, 'ID': 1, 'CO': 3, 'TX': 2, 'NM': 3, 'OR': 1, 'UT': 2, 'MA': 1, 'IN': 1}\n"
          ]
        },
        {
          "output_type": "error",
          "ename": "TypeError",
          "evalue": "ignored",
          "traceback": [
            "\u001b[0;31m---------------------------------------------------------------------------\u001b[0m",
            "\u001b[0;31mTypeError\u001b[0m                                 Traceback (most recent call last)",
            "\u001b[0;32m<ipython-input-35-656583803434>\u001b[0m in \u001b[0;36m<module>\u001b[0;34m\u001b[0m\n\u001b[1;32m     39\u001b[0m \u001b[0mprint\u001b[0m\u001b[0;34m(\u001b[0m\u001b[0mstates\u001b[0m\u001b[0;34m)\u001b[0m\u001b[0;34m\u001b[0m\u001b[0;34m\u001b[0m\u001b[0m\n\u001b[1;32m     40\u001b[0m \u001b[0mkeys\u001b[0m\u001b[0;34m=\u001b[0m\u001b[0;36m0\u001b[0m\u001b[0;34m\u001b[0m\u001b[0;34m\u001b[0m\u001b[0m\n\u001b[0;32m---> 41\u001b[0;31m \u001b[0mprint\u001b[0m \u001b[0;34m(\u001b[0m\u001b[0mstates\u001b[0m\u001b[0;34m,\u001b[0m\u001b[0mkeys\u001b[0m\u001b[0;34m=\u001b[0m\u001b[0mstates\u001b[0m\u001b[0;34m.\u001b[0m\u001b[0mget\u001b[0m\u001b[0;34m)\u001b[0m\u001b[0;34m\u001b[0m\u001b[0;34m\u001b[0m\u001b[0m\n\u001b[0m\u001b[1;32m     42\u001b[0m \u001b[0;32mfor\u001b[0m \u001b[0mkey\u001b[0m\u001b[0;34m,\u001b[0m\u001b[0mitem\u001b[0m \u001b[0;32min\u001b[0m \u001b[0mstates\u001b[0m\u001b[0;34m.\u001b[0m\u001b[0mitems\u001b[0m\u001b[0;34m(\u001b[0m\u001b[0;34m)\u001b[0m\u001b[0;34m:\u001b[0m\u001b[0;34m\u001b[0m\u001b[0;34m\u001b[0m\u001b[0m\n\u001b[1;32m     43\u001b[0m   \u001b[0;31m#print(key)\u001b[0m\u001b[0;34m\u001b[0m\u001b[0;34m\u001b[0m\u001b[0;34m\u001b[0m\u001b[0m\n",
            "\u001b[0;31mTypeError\u001b[0m: 'keys' is an invalid keyword argument for print()"
          ]
        }
      ],
      "source": [
        "from os.path import exists\n",
        "import csv\n",
        "\n",
        "# check if file can be found and open the file\n",
        "datafile = \"./sample_data/customers.csv\"\n",
        "if not exists(datafile):\n",
        "  raise SystemExit(\"You should run the first code cell and download the dataset files!\")\n",
        "\n",
        "# customers file is in the sample_data folder and can be opened.\n",
        "# Using csv reader is one way of dealing with the file \n",
        "# but it's up to you how you want to proceed\n",
        "count=0\n",
        "costumers= {}\n",
        "states={}\n",
        "#with open(datafile, 'r') as fl:\n",
        " # csvreader = csv.reader(fl, delimiter=',')\n",
        "  #costumers={rows[0]:{\"fname\":rows[1],\"lname\":rows[2],\"city\":rows[3],\"state\":rows[4]} for rows in csvreader}\n",
        "\n",
        "#print(costumers)\n",
        "  # loop through the rows and count etc. THE REST IS UP TO YOU!\n",
        "countLine=0\n",
        "with open(datafile, 'r') as fl:\n",
        "  for line in fl:\n",
        "    if countLine >0:\n",
        "      spl= line.split(',')\n",
        "      #print (spl[0])\n",
        "      aux=spl[4]\n",
        "      aux2=aux[:2]\n",
        "      aux2=aux2.upper()\n",
        "      if aux2 not in states:\n",
        "        states.update({aux2:1})\n",
        "      else:\n",
        "        count=states[aux2]\n",
        "        count=count+1\n",
        "        states[aux2]=count\n",
        "    countLine=countLine+1\n",
        "valueMin=111110\n",
        "stateMin=[]\n",
        "print(states)\n",
        "keys=0\n",
        "for key,item in states.items():\n",
        "  #print(key)\n",
        "  #print(item)\n",
        "  if valueMin >= item:\n",
        "    valueMin=item\n",
        "    stateMin.append(key)\n",
        "print(stateMin)"
      ]
    },
    {
      "cell_type": "markdown",
      "metadata": {
        "id": "h6fIy7hXHF6A"
      },
      "source": [
        "**Question 5:** What is the most common last name?"
      ]
    },
    {
      "cell_type": "code",
      "execution_count": null,
      "metadata": {
        "id": "k8M1DmA75Km7",
        "colab": {
          "base_uri": "https://localhost:8080/"
        },
        "outputId": "66f7ba19-bd25-4b23-c6a7-a569090f8032"
      },
      "outputs": [
        {
          "output_type": "stream",
          "name": "stdout",
          "text": [
            "{'PIEDRAHITA': 1, 'ABRAHAM': 2, 'JAUREGUI': 2, 'MOTA-SANCHEZ': 2, 'MCCRORIE': 1, 'RAVELO': 1, 'KLINK': 1, 'SMITH': 8, 'TAN': 1, 'HUYNH': 4, 'GILARTELLI': 3, 'PERSKY': 1, 'MCCARLEY ': 2, 'GANTOUS': 2, 'WOLLMAN': 3, 'TUELL': 2, 'COSIO': 1, 'SOMOSOT': 1, 'QUIJADA': 2, 'MARIN': 3, 'PARK': 1, 'LIGHTFOOT': 1, 'MCMURRAY': 3, 'KIRSCHNER': 1, 'ZHANG': 3, 'STINSON': 2, 'GALVAN': 1, 'MEGERDICHIAN': 2, 'ROCHA': 4, 'MUSLEH': 2, 'SLOAN': 2, 'ZAPATA': 1, 'ROELANTS': 1, 'VOJNAR': 1, 'CHO': 2, 'HAROLD': 1, 'REYES': 4, 'THOMPSON': 2, 'SCATES JOHNSON': 2, 'MORRIS': 1, 'CAMPOS': 1, 'HARRIS': 3, 'TZARAX': 1, 'COHN': 1, 'MARTINEZ': 2, 'SULLIVAN': 1, 'CARREON': 1, 'MCMAHON': 4, 'MONTES': 2, 'MOPSIKOFF': 1, 'TUDELA': 1, 'GARCIA': 4, 'COFFEY': 2, 'KIM': 1, 'GONZALEZ': 4, 'JOHNSON': 4, 'BANIK': 2, 'VALEN': 1, 'HATHEWAY': 1, 'NEWHOUSE': 1, 'PADILLA': 1, 'SPILLMAN': 1, 'HILLARD': 1, 'BROVKO': 1, 'GOMEZ': 5, 'ROBERTSON': 2, 'HODGSON': 1, 'AMBULO': 2, 'SHRESTHA': 2, 'WELSH': 1, 'OJEDA': 1, 'HALVERSON': 3, 'PEREZ': 4, 'HESTER': 1, 'GRESSITT': 1, 'WARREN': 1, 'JANNETTE': 3, 'HERNANDEZ': 1, 'COURTIS': 2, 'IRWIN': 2, 'DAVIDSON-DILLON': 1, 'TAVARES': 2, 'GONZALES': 2, 'FREEMAN': 2, 'WICKER': 1, 'KULKA': 1, 'MERCADO': 2, 'SPIZER': 2, 'COOMB': 2, 'JACKSON': 3, 'UDOMA': 1, 'YI': 1, 'GUZMAN': 3, 'CHANG': 3, 'HADLEY': 3, 'DEMOTTE': 1, 'ZAMBRANA': 5, 'MACIAS': 2, 'PILLARELLA': 1, 'SOTO': 4, 'YOUNT': 2, 'LANZI': 2, 'CHIN': 1, 'WILLIAMS': 2, 'ZAM': 2, 'SCHNEIDER': 1, 'FERGUSON': 1, 'VILLELA': 1, 'MUNOZ': 2, 'SHAO': 1, 'PANTE': 1, 'TYCHOLIS': 2, 'HIGHSHOE': 1, 'MOLINA': 1, 'OZEKICI': 1, 'ARROYO': 2, 'ESPINOZA': 1, 'AZIZI': 1, 'CHOI': 1, 'RIOS': 1, 'VONG': 1, 'ASCOLESE': 1, 'TREVARE': 2, 'SCHAFFNER': 1, 'MCDERMOTT': 3, 'NURE': 2, 'PICON': 1, 'HAMILTON': 1, 'MUKORA': 1, 'KHACHADOORIAN': 1, 'PIMENTEL': 1, 'ARGUELLES ': 1, 'KRESSH': 1, 'MILLER': 3, 'HALL': 1, 'GUNTHER': 1, 'HEREDIA': 1, 'HUARD': 1, 'KEY': 1, 'MAKNOUNI': 1, 'DRAGT': 1, 'SEVILLE-DOUGLAS': 1, 'CISNEROS': 1, 'GALINDO': 2, 'RIVERA MARMOL ': 1, 'OLSON': 1, 'DIVAS': 1, 'CANIZALES': 3, 'LEE': 1, 'DE GUIA': 1, 'WELTSCH': 2, 'RANDALL': 1, 'HARBOR': 1, 'STANDING': 1, 'SANDERFORD': 1, 'HISAOKA': 2, 'ORONA': 1, 'RODRIGUEZ LEMOS': 1, 'JONES': 2, 'MUMFORD': 4, 'HENDRIX': 1, 'ZAMORA': 1, 'RAY': 1, 'WILDEY': 2, 'YAN': 1, 'MCLEAN': 1, 'SANCHEZ': 1, 'TAFOLLA': 2, 'ROJAS': 1, 'SAINBAATAR': 1, 'DEPLAND': 1, 'RODRIGUEZ': 3, 'OROZCO': 1, 'NIMAGA': 1, 'FABBRO': 1, 'ATKISSON': 1, 'VRBKA': 1, 'PULIDO': 2, 'VEGA': 2, 'KOVELMAN': 1, 'PUNO': 1, 'SOLIZ ': 2, 'BAGALE': 1, 'SARRAUTE': 1, 'TREJO ': 1, 'LOPEZ': 2, 'HARRISON': 1, 'PARKINSON': 1, 'HOONG': 1, 'FRANCO': 2, 'GAYTAN': 1, 'LONDIOL': 1, 'VARGAS': 1, 'MORTELLARO': 2, 'MAYE': 1, 'BRES': 1, 'BRUMMER': 1, 'ORTEGA': 3, 'MATHEWSON': 1, 'MYHRE': 1, 'REYNA': 2, 'QUINTANA': 2, 'DIAZ': 2, 'GARMON': 2, 'VELIS': 1, 'GECHTMAN': 1, 'OH': 2, 'MATHER': 1, 'TABAK': 2, 'EDISON': 1, 'GATZA': 1, 'GUERRA': 4, 'PREVICH': 3, 'DOGGETT': 5, 'GIFFIN': 1, 'LOZANO': 1, 'MENDES': 1, 'FINAN': 2, 'RUIZ': 2, 'TAKARADA': 3, 'TREVINO': 1, 'NICHOLLS': 1, 'RILEY': 1, 'MCNELLIS': 1, 'MUELLER': 1, 'CARVALHO': 1, 'STEVENSON': 1, 'SILVA': 2, 'HORDYK': 1, 'KEMBLE': 1, 'MONTELLANO LUNA': 4, 'MOSOMBITE': 1, 'AZIMI': 1, 'JUAREZ ': 1, 'WRIGHT': 1, 'RESNICK': 2, 'HARBISON-MICHEL': 1, 'DRAME': 1, 'GYERMAN': 1, 'GEORGE': 1, 'MONTALVO': 1, 'SANDS': 1, 'GIGLIOTTI': 1, 'BERNABE': 1, 'SCOTT ': 2, 'BEGLEY': 2, 'ROCKWELL': 1, 'MONTGOMERY': 1, 'MINNICK': 2, 'HTWE': 1, 'ZILLIOX': 1, 'CIOTTI PARTON': 1, 'SAMPSON': 1, 'CERVANTES': 1, 'SHALLER': 1, 'DIAZGOMEZ': 1, 'RAMIREZ': 3, 'NAZARETYAN': 1, 'LABONTE': 3, 'DOMINGUEZ ': 1, 'OQUINN': 1, 'TINDAN': 1, 'GARABET': 1, 'BRADY': 3, 'MUNANA': 2, 'OSORIO': 1, 'GAMINO': 1, 'WESTFALL ': 1, 'QUINTERO': 1, 'HSU': 1, 'RINGGOLD ': 1, 'SAGGESE': 2, 'RUIZ ': 1, 'HANLEY': 1, 'SAMILIN': 1, 'ABRAMS': 1, 'VITAL': 1, 'COFFIN': 1, 'WOMACK': 1, 'VORACHARD': 1, 'ABUEL': 1, 'XU': 1, 'NEWSOME': 1, 'ALLEN': 2, 'BELLOSO': 1, 'HASLACKER': 1, 'SIERRA': 1, 'ANGELO': 1, 'ABRISHAMCHIAN': 1, 'SHAUGHNESSY ': 1, 'XIAO': 1, 'BARRETTO': 1, 'SIMPSON': 2, 'VAN DAM': 1, 'SHIELDS': 1, 'MEDINA': 1, 'NAVARRO': 1, 'CRUZ-BONDE': 1, 'ALVARADO': 2, 'BERINA': 1, 'VANDYKE': 1, 'BURNS': 1, 'BRISENO': 1, 'LAY': 1, 'MACHTOLFF': 1, 'RESENDEZ': 1, 'ZIMBER': 2, 'HANDY': 1, 'COROSU': 1, 'WEISMAN': 1, 'ORTIZ': 3, 'PLUNIER': 1, 'FELIX': 1, 'HAGHIRI': 1, 'POWELL': 1, 'REDBURN': 1, 'ROTH STRONG ': 1, 'NOORSHER': 1, 'EMELIANOV ': 1, 'SABO': 1, 'KOYABU': 1, 'QURESHI': 2, 'KARTOUNIAN': 1, 'HUNTER ': 1, 'SUTTON': 1, 'AMATO MAYES': 1, 'HERRON': 1, 'MATSUMOTO': 2, 'ISHIMARU': 2, 'SANDOVAL': 1, 'CASTRINOS': 2, 'LUU': 1, 'AUGUSTINE': 2, 'YOUNG': 1, 'KARTALIAN ': 1, 'CHURCH': 1, 'ESTRADA': 2, 'MARTSOLF': 2, 'MARKEL': 1, 'HYATT': 1, 'TORRES': 1, 'STRASER': 1, 'PAPPENSCHELLER': 1, 'MARQUEZ': 1, 'GHOLSTON': 1, 'FERRARO': 1, 'CASEY': 1, 'MADLAMBAYAN': 1, 'KNIBB': 1, 'DUNNE': 1, 'MORALES': 1, 'VALENZUELA': 1, 'OCHIAI': 1, 'BARAJAS': 1, 'HORAN': 1, 'HAN': 1, 'PELLETIER': 1, 'AGHAKHANI': 1, 'SARTORIO': 1, 'LOOSE': 1, 'UZUN': 1, 'GOLDFARB': 1, 'JONKE': 1, 'ANDERSON': 1, 'HONG': 1, 'BUDA': 1, 'JOHN': 1, 'WOLIN': 1, 'NAJAD': 1, 'YATES': 1, 'RIVERA': 1, 'ARIAS': 1, 'OCONNOR': 1, 'VALADEZ': 1, 'MARSHALL': 1, 'PACIENTE': 1, 'WOODWARD': 1, 'WEMBES': 1, 'VAZQUEZ': 1, 'CARRIER': 1, 'STELYN': 1, 'GABBAYAN': 1, 'LAINFIESTA': 1, 'MCMAINS': 1, 'JIA': 1, 'LEON': 1, 'SEOK': 1, 'ROBERTS': 1, 'LEMAISTRE': 1, 'KENNEDY': 1, 'CONNELL': 1, 'BALCARCEL': 1, 'GREESON': 1, 'PUGLISI': 1, 'YOUSSEF': 1, 'RUDI': 1, 'SPENCER': 1, 'CORCORAN': 1, 'YAMADA': 1, 'KIRILENKO': 1, 'MUGGY': 1, 'VALDEZ': 1, 'MERLE': 1, 'BOUCHAT': 1, 'JIMENEZ': 1, 'HAYDEN': 1, 'SCHOENFELD': 1, 'HERRERA': 1, 'CASTILLO': 1, 'FILLMORE': 1, 'SCHORR': 1, 'VERDUZCO': 1, 'ZAMUDIO': 1, 'BABBITT': 1, 'MUNIZ': 1, 'STEPHENS': 1, 'BOROUGH': 1, 'FERRER': 1, 'CRUZ': 1, 'MONTECLARO': 1, 'HALL REIF': 1, 'MIALOTO JR.': 1, 'HUGHES': 1, 'OKONMA': 1}\n",
            "Commun Name: SMITH, quantity: 8\n"
          ]
        }
      ],
      "source": [
        "from os.path import exists\n",
        "import csv\n",
        "\n",
        "# check if file can be found and open the file\n",
        "datafile = \"./sample_data/customers.csv\"\n",
        "if not exists(datafile):\n",
        "  raise SystemExit(\"You should run the first code cell and download the dataset files!\")\n",
        "\n",
        "count=0\n",
        "costumers= {}\n",
        "states={}\n",
        "countLine=0\n",
        "with open(datafile, 'r') as fl:\n",
        "  for line in fl:\n",
        "    if countLine >0:\n",
        "      spl= line.split(',')\n",
        "      aux=spl[2]\n",
        "      aux2=aux\n",
        "      aux2=aux2.upper()\n",
        "      if aux2 not in states:\n",
        "        states.update({aux2:1})\n",
        "      else:\n",
        "        count=states[aux2]\n",
        "        count=count+1\n",
        "        states[aux2]=count\n",
        "    countLine=countLine+1\n",
        "valueMax=0\n",
        "stateMAx=0\n",
        "print(states)\n",
        "for key,item in states.items():\n",
        "  if valueMax < item:\n",
        "    valueMax=item\n",
        "    stateMAx=key\n",
        "print(f'Commun Name: {stateMAx}, quantity: {valueMax}')"
      ]
    },
    {
      "cell_type": "markdown",
      "metadata": {
        "id": "YPRma1t9NoFk"
      },
      "source": [
        "# Exercise 2: Processing Orders data (difficulty high)\n",
        "\n",
        "The second sample files contains orders placed by customers from the first file. Be careful, this file has many rows and you most likely should not print the contents of the whole file. \n",
        "\n",
        "The file contains the following columns: CustomerID, OrderID, Date, OrderTotal, ProductName, Price\n",
        "\n",
        "![Data sample](https://raw.githubusercontent.com/anyoneai/notebooks/main/customers_and_orders/images/orders.png)\n",
        "\n",
        "*Hint:* We advise you to take a look at the data before you start.\n",
        "**if you want to manually take a look at the data before you start, please see the content of the data [here](https://raw.githubusercontent.com/anyoneai/notebooks/main/customers_and_orders/data/orders.csv).\n",
        "\n",
        "*Hint*: There are many ways to do this exercise you can do your own, although here's some help. You can solve this exercise reading and parsing CSV files, structuring data into dictionaries, and using for loops to navigate the contents\n",
        "\n",
        "*Hint*: Also, the data is not clean and you will have to figure out how to deal with that data from the code, without having to modify the data source.\n",
        "\n",
        "\n",
        "\n",
        "**Question #1:** How many unique orders are in the orders.csv file?\n",
        "\n",
        "**Question #2:** What is the average number of items per order (rounded to two decimal places)?\n",
        "\n",
        "**Question #3:** What is the highest number of items per order?\n",
        "\n",
        "**Question #4:** What is the number of orders placed in October 2021?\n",
        "\n",
        "**Question #5:** Which customer spent the most amount of money in 2021?\n",
        "\n",
        "**Question #6:** Historically, what is the best month for sales?\n",
        "\n",
        "Once you get your answers, remember to go back to the course and introduce them in the multiple choice quiz"
      ]
    },
    {
      "cell_type": "code",
      "execution_count": 2,
      "metadata": {
        "id": "8ipJTrfs5QVM",
        "colab": {
          "base_uri": "https://localhost:8080/"
        },
        "outputId": "0d05d0ad-bbd1-42f7-867b-140ff74edd60"
      },
      "outputs": [
        {
          "output_type": "stream",
          "name": "stdout",
          "text": [
            "Q1) orders:  16673\n",
            "Q2) Average: 1.7570777351247602\n",
            "Q3) Higest number in order: 35\n",
            "Q4)Number of orders in 2021: 3824\n",
            "Q5) The costumer who spent more money in 2021 is: 5464\n"
          ]
        }
      ],
      "source": [
        "from os.path import exists\n",
        "import csv\n",
        "import datetime\n",
        "\n",
        "# check if file can be found and open the file\n",
        "datafile = \"./sample_data/orders.csv\"\n",
        "count=0\n",
        "list1=[]\n",
        "if not exists(datafile):\n",
        "  raise SystemExit(\"You should run the first code cell and download the dataset files!\")\n",
        "  #----------------------- Question 1 ---------------------\n",
        "with open(datafile, 'r') as fl:\n",
        "  for line in fl:\n",
        "    spl= line.split(',')\n",
        "    if spl[1] not in list1:\n",
        "      count=count+1\n",
        "      list1.append(spl[1])\n",
        "print(\"Q1) orders: \", count)\n",
        "#------- Question 2 -------------\n",
        "count=0\n",
        "costumers= {}\n",
        "orders={}\n",
        "countLine=0\n",
        "with open(datafile, 'r') as fl:\n",
        "  for line in fl:\n",
        "    if countLine >0:\n",
        "      spl= line.split(',')\n",
        "      #print (spl[0])\n",
        "      aux=spl[1]\n",
        "      if aux not in orders:\n",
        "        orders.update({aux:1})\n",
        "      else:\n",
        "        count=orders[aux]\n",
        "        count=count+1\n",
        "        orders[aux]=count\n",
        "    countLine=countLine+1\n",
        "valueMax=0\n",
        "OrderMAx=0\n",
        "#print(orders)\n",
        "sum=0\n",
        "div=0\n",
        "for key,item in orders.items():\n",
        "  sum= sum+item\n",
        "  div=div+1\n",
        "ans=sum/div\n",
        "print(f'Q2) Average: {ans}')\n",
        "\n",
        "#------- Question 3 -------------\n",
        "count=0\n",
        "costumers= {}\n",
        "orders={}\n",
        "countLine=0\n",
        "with open(datafile, 'r') as fl:\n",
        "  for line in fl:\n",
        "    if countLine >0:\n",
        "      spl= line.split(',')\n",
        "      #print (spl[0])\n",
        "      aux=spl[1]\n",
        "      if aux not in orders:\n",
        "        orders.update({aux:1})\n",
        "      else:\n",
        "        count=orders[aux]\n",
        "        count=count+1\n",
        "        orders[aux]=count\n",
        "    countLine=countLine+1\n",
        "valueMax=0\n",
        "OrderMAx=0\n",
        "#print(orders)\n",
        "for key,item in orders.items():\n",
        "  if valueMax < item:\n",
        "    valueMax=item\n",
        "    OrderMAx=key\n",
        "print(f'Q3) Higest number in order: {valueMax}')\n",
        "#---------- Q 4 ------------ numbre of oreders in 2021\n",
        "count=0\n",
        "costumers= {}\n",
        "orders={}\n",
        "countLine=0\n",
        "with open(datafile, 'r') as fl:\n",
        "  for line in fl:\n",
        "    if countLine >0:\n",
        "      spl= line.split(',')\n",
        "      aux=spl[2]\n",
        "      if aux != '':\n",
        "        year= datetime.datetime.strptime(aux,\"%Y-%m-%d  %H:%M:%S.%f\")\n",
        "      if year.year==2021:\n",
        "        count=count+1\n",
        "    countLine=countLine+1\n",
        "print(f'Q4)Number of orders in 2021: {count}')\n",
        "\n",
        "#--------- Q5 3*5\n",
        "count=0\n",
        "costumers= {}\n",
        "orders={}\n",
        "countLine=0\n",
        "amount=0\n",
        "with open(datafile, 'r') as fl:\n",
        "  for line in fl:\n",
        "    if countLine >0:\n",
        "      spl= line.split(',')\n",
        "      #print (spl[0])\n",
        "      aux=spl[2]\n",
        "      costumer=spl[0]\n",
        "      amount=float (spl[5]) * float (spl[3])\n",
        "      if aux != '':\n",
        "        year= datetime.datetime.strptime(aux,\"%Y-%m-%d  %H:%M:%S.%f\")\n",
        "      if year.year==2021:\n",
        "        if costumer not in costumers:\n",
        "          costumers.update({costumer:amount})\n",
        "        else:\n",
        "          count=costumers[costumer]\n",
        "          count=count+amount\n",
        "          costumers[costumer]=count\n",
        "    countLine=countLine+1\n",
        "valueMax=0\n",
        "OrderMAx=0\n",
        "#print(orders)\n",
        "for key,item in costumers.items():\n",
        "  if valueMax < item:\n",
        "    valueMax=item\n",
        "    OrderMAx=key\n",
        "print(f'Q5) The costumer who spent more money in 2021 is: {OrderMAx}')\n",
        "#------- Q6 --------------  Historically, what is the best month for sales?\n",
        "count=0\n",
        "costumers= {}\n",
        "orders={}\n",
        "countLine=0\n",
        "amount=0\n",
        "with open(datafile, 'r') as fl:\n",
        "  for line in fl:\n",
        "    if countLine >0:\n",
        "      spl= line.split(',')\n",
        "      #print (spl[0])\n",
        "      aux=spl[2]\n",
        "      costumer=spl[0]\n",
        "      amount=float (spl[5]) * float (spl[3])\n",
        "      if aux != '':\n",
        "        year= datetime.datetime.strptime(aux,\"%Y-%m-%d  %H:%M:%S.%f\")\n",
        "      if year.month==2021:\n",
        "        if costumer not in costumers:\n",
        "          costumers.update({costumer:amount})\n",
        "        else:\n",
        "          count=costumers[costumer]\n",
        "          count=count+amount\n",
        "          costumers[costumer]=count\n",
        "    countLine=countLine+1\n",
        "valueMax=0\n",
        "OrderMAx=0\n",
        "#print(orders)\n",
        "for key,item in costumers.items():\n",
        "  if valueMax < item:\n",
        "    valueMax=item\n",
        "    OrderMAx=key\n",
        "#print(f'Q5) The costumer who spent more money in 2021 is: {OrderMAx}')"
      ]
    },
    {
      "cell_type": "markdown",
      "metadata": {
        "id": "ie0JW4FAk6Os"
      },
      "source": [
        "# Finished!\n",
        "\n",
        "Hope this was not too difficult and slicing and dicing the datasets was some fun. Now head on back to the course and provide the answers to the questions from this exercise."
      ]
    }
  ],
  "metadata": {
    "colab": {
      "name": "customers_and_orders.ipynb",
      "provenance": [],
      "include_colab_link": true
    },
    "kernelspec": {
      "display_name": "Python 3 (ipykernel)",
      "language": "python",
      "name": "python3"
    },
    "language_info": {
      "codemirror_mode": {
        "name": "ipython",
        "version": 3
      },
      "file_extension": ".py",
      "mimetype": "text/x-python",
      "name": "python",
      "nbconvert_exporter": "python",
      "pygments_lexer": "ipython3",
      "version": "3.9.9"
    }
  },
  "nbformat": 4,
  "nbformat_minor": 0
}